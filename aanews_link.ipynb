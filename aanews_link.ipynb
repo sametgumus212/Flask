{
  "nbformat": 4,
  "nbformat_minor": 0,
  "metadata": {
    "colab": {
      "name": "aanews_link.ipynb",
      "provenance": [],
      "collapsed_sections": [],
      "authorship_tag": "ABX9TyOrFhIiNJhKfm0LpXEj5qrn",
      "include_colab_link": true
    },
    "kernelspec": {
      "name": "python3",
      "display_name": "Python 3"
    },
    "language_info": {
      "name": "python"
    }
  },
  "cells": [
    {
      "cell_type": "markdown",
      "metadata": {
        "id": "view-in-github",
        "colab_type": "text"
      },
      "source": [
        "<a href=\"https://colab.research.google.com/github/sametgumus212/Flask/blob/main/aanews_link.ipynb\" target=\"_parent\"><img src=\"https://colab.research.google.com/assets/colab-badge.svg\" alt=\"Open In Colab\"/></a>"
      ]
    },
    {
      "cell_type": "code",
      "source": [
        "!pip install selenium "
      ],
      "metadata": {
        "colab": {
          "base_uri": "https://localhost:8080/"
        },
        "id": "0ZiUSD4kbmny",
        "outputId": "f6c0bbd4-e4e2-467a-b012-f3f0ed273310"
      },
      "execution_count": null,
      "outputs": [
        {
          "output_type": "stream",
          "name": "stdout",
          "text": [
            "Requirement already satisfied: selenium in ./anaconda3/lib/python3.9/site-packages (4.1.0)\r\n",
            "Requirement already satisfied: urllib3[secure]~=1.26 in ./anaconda3/lib/python3.9/site-packages (from selenium) (1.26.7)\r\n",
            "Requirement already satisfied: trio-websocket~=0.9 in ./anaconda3/lib/python3.9/site-packages (from selenium) (0.9.2)\r\n",
            "Requirement already satisfied: trio~=0.17 in ./anaconda3/lib/python3.9/site-packages (from selenium) (0.19.0)\r\n",
            "Requirement already satisfied: outcome in ./anaconda3/lib/python3.9/site-packages (from trio~=0.17->selenium) (1.1.0)\r\n",
            "Requirement already satisfied: sniffio in ./anaconda3/lib/python3.9/site-packages (from trio~=0.17->selenium) (1.2.0)\r\n",
            "Requirement already satisfied: async-generator>=1.9 in ./anaconda3/lib/python3.9/site-packages (from trio~=0.17->selenium) (1.10)\r\n",
            "Requirement already satisfied: attrs>=19.2.0 in ./anaconda3/lib/python3.9/site-packages (from trio~=0.17->selenium) (21.2.0)\r\n",
            "Requirement already satisfied: idna in ./anaconda3/lib/python3.9/site-packages (from trio~=0.17->selenium) (3.2)\r\n",
            "Requirement already satisfied: sortedcontainers in ./anaconda3/lib/python3.9/site-packages (from trio~=0.17->selenium) (2.4.0)\n",
            "Requirement already satisfied: wsproto>=0.14 in ./anaconda3/lib/python3.9/site-packages (from trio-websocket~=0.9->selenium) (1.0.0)\n",
            "Requirement already satisfied: pyOpenSSL>=0.14 in ./anaconda3/lib/python3.9/site-packages (from urllib3[secure]~=1.26->selenium) (21.0.0)\n",
            "Requirement already satisfied: cryptography>=1.3.4 in ./anaconda3/lib/python3.9/site-packages (from urllib3[secure]~=1.26->selenium) (3.4.8)\n",
            "Requirement already satisfied: certifi in ./anaconda3/lib/python3.9/site-packages (from urllib3[secure]~=1.26->selenium) (2021.10.8)\n",
            "Requirement already satisfied: cffi>=1.12 in ./anaconda3/lib/python3.9/site-packages (from cryptography>=1.3.4->urllib3[secure]~=1.26->selenium) (1.14.6)\n",
            "Requirement already satisfied: pycparser in ./anaconda3/lib/python3.9/site-packages (from cffi>=1.12->cryptography>=1.3.4->urllib3[secure]~=1.26->selenium) (2.20)\n",
            "Requirement already satisfied: six>=1.5.2 in ./anaconda3/lib/python3.9/site-packages (from pyOpenSSL>=0.14->urllib3[secure]~=1.26->selenium) (1.16.0)\n",
            "Requirement already satisfied: h11<1,>=0.9.0 in ./anaconda3/lib/python3.9/site-packages (from wsproto>=0.14->trio-websocket~=0.9->selenium) (0.12.0)\n"
          ]
        }
      ]
    },
    {
      "cell_type": "code",
      "execution_count": null,
      "metadata": {
        "id": "YipkXbk_bY69"
      },
      "outputs": [],
      "source": [
        "from bs4 import BeautifulSoup\n",
        "import requests\n",
        "from selenium import webdriver\n",
        "from selenium.webdriver.common.keys import Keys\n",
        "import time\n",
        "import csv\n",
        "import pandas as pd\n",
        "import datetime\n",
        "from datetime import datetime, timedelta\n",
        "import numpy as np\n",
        "import os\n",
        "import csv\n",
        "import math\n",
        "import concurrent\n",
        "import multiprocessing\n",
        "from multiprocessing import pool\n",
        "import io\n",
        "from pprint import pprint"
      ]
    },
    {
      "cell_type": "code",
      "source": [
        "# driver=webdriver.Chrome('/usr/bin/chromedriver')\n",
        "# # brows=driver.get('https://www.aa.com.tr/en/science-technology')\n",
        "# brows=driver.get('https://www.aa.com.tr/en/Search#!')\n",
        "# # s=brows.page_source\n",
        "# # soup=BeautifulSoup(s,\"html.parser\")\n",
        "# ids=driver.find_elements_by_xpath('//*[@href]')\n",
        "# for a in ids:\n",
        "#   if(a.get_attribute('href').startswith(\"http\")):\n",
        "#     pass\n",
        "#   else:\n",
        "#     print(a.get_attribute('href'))"
      ],
      "metadata": {
        "colab": {
          "base_uri": "https://localhost:8080/"
        },
        "id": "U3Flis08Nrh5",
        "outputId": "16c6ed67-6854-4700-8a47-d2109b231466"
      },
      "execution_count": null,
      "outputs": [
        {
          "output_type": "stream",
          "name": "stderr",
          "text": [
            "/tmp/ipykernel_19130/303544450.py:1: DeprecationWarning: executable_path has been deprecated, please pass in a Service object\n",
            "  driver=webdriver.Chrome('/usr/bin/chromedriver')\n",
            "/tmp/ipykernel_19130/303544450.py:6: DeprecationWarning: find_elements_by_* commands are deprecated. Please use find_elements() instead\n",
            "  ids=driver.find_elements_by_xpath('//*[@href]')\n"
          ]
        },
        {
          "output_type": "stream",
          "name": "stdout",
          "text": [
            "javascript:void(0)\n"
          ]
        }
      ]
    },
    {
      "cell_type": "code",
      "source": [
        "driver=webdriver.Chrome('/usr/bin/chromedriver')\n",
        "# brows=driver.get('https://www.aa.com.tr/en/science-technology')\n",
        "brows=driver.get('https://www.aa.com.tr/en/Search#!')\n",
        "time.sleep(3)\n",
        "driver.maximize_window()\n",
        "but=driver.find_element_by_xpath('/html/body/div[2]/main/div[4]/div[1]/div[1]/input[1]')\n",
        "but.send_keys(\"science\")\n",
        "driver.execute_script(\"window.scrollBy(0,1000)\")\n",
        "time.sleep(2)\n",
        "driver.execute_script(\"window.scrollBy(0,1000)\")\n",
        "arama_tikla=driver.find_element_by_xpath('//*[@id=\"arama\"]')\n",
        "arama_tikla.click()\n",
        "# but2=driver.find find_element_by_xpath('')\n",
        "link=[]\n",
        "driver.execute_script(\"window.scrollBy(0,2000)\")\n",
        "time.sleep(3)\n",
        "driver.execute_script(\"window.scrollBy(0,2400)\")\n",
        "\n",
        "# sayfa_kay= brows.page_source\n",
        "# soup = BeautifulSoup(sayfa_kay, \"html.parser\")\n",
        "# for a in soup.find_all('a', href=True):\n",
        "#   link.append(a)\n",
        "\n",
        "#/html/body/div/main/div[9]/div[3]/a\n",
        "count=0\n",
        "for i in range(3000):\n",
        "  \n",
        "  driver.execute_script(\"window.scrollBy(0,3500)\")\n",
        "  time.sleep(3)\n",
        "  driver.find_element_by_xpath('/html/body/div[2]/main/div[4]/div[4]/a').click()\n",
        "  ids=driver.find_elements_by_xpath('//*[@href]')\n",
        "  for a in ids:\n",
        "    count=count+1\n",
        "    l=a.get_attribute('href')\n",
        "    if a.get_attribute('href').startswith(\"https://www.aa.com.tr/en/science-technology\") and count%2==1:\n",
        "    # if(a.get_attribute('href')):\n",
        "      i=a.get_attribute('href')\n",
        "      with open(\"aa_link_only_science.txt\", 'a') as file: \n",
        "             file.write(i+'\\n')   \n",
        "\n",
        "\n",
        "    elif len(l)>60 and a.get_attribute('href').startswith(\"https://www.aa.com.tr\") and count%2==1:\n",
        "    # if(a.get_attribute('href')):\n",
        "      i=a.get_attribute('href')\n",
        "      with open(\"aa_link_science2.txt\", 'a') as file: \n",
        "             file.write(i+'\\n')   \n",
        "    \n",
        "    else:\n",
        "      pass\n",
        "  time.sleep(3)"
      ],
      "metadata": {
        "colab": {
          "base_uri": "https://localhost:8080/",
          "height": 1000
        },
        "id": "Iv5YriB_gs8O",
        "outputId": "5437fabf-8dba-40fd-c30d-2b3694922771"
      },
      "execution_count": null,
      "outputs": [
        {
          "output_type": "stream",
          "name": "stderr",
          "text": [
            "/tmp/ipykernel_7744/3740392864.py:1: DeprecationWarning: executable_path has been deprecated, please pass in a Service object\n",
            "  driver=webdriver.Chrome('/usr/bin/chromedriver')\n",
            "/tmp/ipykernel_7744/3740392864.py:6: DeprecationWarning: find_element_by_* commands are deprecated. Please use find_element() instead\n",
            "  but=driver.find_element_by_xpath('/html/body/div[2]/main/div[4]/div[1]/div[1]/input[1]')\n",
            "/tmp/ipykernel_7744/3740392864.py:11: DeprecationWarning: find_element_by_* commands are deprecated. Please use find_element() instead\n",
            "  arama_tikla=driver.find_element_by_xpath('//*[@id=\"arama\"]')\n",
            "/tmp/ipykernel_7744/3740392864.py:30: DeprecationWarning: find_element_by_* commands are deprecated. Please use find_element() instead\n",
            "  driver.find_element_by_xpath('/html/body/div[2]/main/div[4]/div[4]/a').click()\n",
            "/tmp/ipykernel_7744/3740392864.py:31: DeprecationWarning: find_elements_by_* commands are deprecated. Please use find_elements() instead\n",
            "  ids=driver.find_elements_by_xpath('//*[@href]')\n"
          ]
        },
        {
          "output_type": "error",
          "ename": "ElementClickInterceptedException",
          "evalue": "ignored",
          "traceback": [
            "\u001b[0;31m---------------------------------------------------------------------------\u001b[0m",
            "\u001b[0;31mElementClickInterceptedException\u001b[0m          Traceback (most recent call last)",
            "\u001b[0;32m/tmp/ipykernel_7744/3740392864.py\u001b[0m in \u001b[0;36m<module>\u001b[0;34m\u001b[0m\n\u001b[1;32m     28\u001b[0m   \u001b[0mdriver\u001b[0m\u001b[0;34m.\u001b[0m\u001b[0mexecute_script\u001b[0m\u001b[0;34m(\u001b[0m\u001b[0;34m\"window.scrollBy(0,3500)\"\u001b[0m\u001b[0;34m)\u001b[0m\u001b[0;34m\u001b[0m\u001b[0;34m\u001b[0m\u001b[0m\n\u001b[1;32m     29\u001b[0m   \u001b[0mtime\u001b[0m\u001b[0;34m.\u001b[0m\u001b[0msleep\u001b[0m\u001b[0;34m(\u001b[0m\u001b[0;36m3\u001b[0m\u001b[0;34m)\u001b[0m\u001b[0;34m\u001b[0m\u001b[0;34m\u001b[0m\u001b[0m\n\u001b[0;32m---> 30\u001b[0;31m   \u001b[0mdriver\u001b[0m\u001b[0;34m.\u001b[0m\u001b[0mfind_element_by_xpath\u001b[0m\u001b[0;34m(\u001b[0m\u001b[0;34m'/html/body/div[2]/main/div[4]/div[4]/a'\u001b[0m\u001b[0;34m)\u001b[0m\u001b[0;34m.\u001b[0m\u001b[0mclick\u001b[0m\u001b[0;34m(\u001b[0m\u001b[0;34m)\u001b[0m\u001b[0;34m\u001b[0m\u001b[0;34m\u001b[0m\u001b[0m\n\u001b[0m\u001b[1;32m     31\u001b[0m   \u001b[0mids\u001b[0m\u001b[0;34m=\u001b[0m\u001b[0mdriver\u001b[0m\u001b[0;34m.\u001b[0m\u001b[0mfind_elements_by_xpath\u001b[0m\u001b[0;34m(\u001b[0m\u001b[0;34m'//*[@href]'\u001b[0m\u001b[0;34m)\u001b[0m\u001b[0;34m\u001b[0m\u001b[0;34m\u001b[0m\u001b[0m\n\u001b[1;32m     32\u001b[0m   \u001b[0;32mfor\u001b[0m \u001b[0ma\u001b[0m \u001b[0;32min\u001b[0m \u001b[0mids\u001b[0m\u001b[0;34m:\u001b[0m\u001b[0;34m\u001b[0m\u001b[0;34m\u001b[0m\u001b[0m\n",
            "\u001b[0;32m~/anaconda3/lib/python3.9/site-packages/selenium/webdriver/remote/webelement.py\u001b[0m in \u001b[0;36mclick\u001b[0;34m(self)\u001b[0m\n\u001b[1;32m     79\u001b[0m     \u001b[0;32mdef\u001b[0m \u001b[0mclick\u001b[0m\u001b[0;34m(\u001b[0m\u001b[0mself\u001b[0m\u001b[0;34m)\u001b[0m \u001b[0;34m->\u001b[0m \u001b[0;32mNone\u001b[0m\u001b[0;34m:\u001b[0m\u001b[0;34m\u001b[0m\u001b[0;34m\u001b[0m\u001b[0m\n\u001b[1;32m     80\u001b[0m         \u001b[0;34m\"\"\"Clicks the element.\"\"\"\u001b[0m\u001b[0;34m\u001b[0m\u001b[0;34m\u001b[0m\u001b[0m\n\u001b[0;32m---> 81\u001b[0;31m         \u001b[0mself\u001b[0m\u001b[0;34m.\u001b[0m\u001b[0m_execute\u001b[0m\u001b[0;34m(\u001b[0m\u001b[0mCommand\u001b[0m\u001b[0;34m.\u001b[0m\u001b[0mCLICK_ELEMENT\u001b[0m\u001b[0;34m)\u001b[0m\u001b[0;34m\u001b[0m\u001b[0;34m\u001b[0m\u001b[0m\n\u001b[0m\u001b[1;32m     82\u001b[0m \u001b[0;34m\u001b[0m\u001b[0m\n\u001b[1;32m     83\u001b[0m     \u001b[0;32mdef\u001b[0m \u001b[0msubmit\u001b[0m\u001b[0;34m(\u001b[0m\u001b[0mself\u001b[0m\u001b[0;34m)\u001b[0m\u001b[0;34m:\u001b[0m\u001b[0;34m\u001b[0m\u001b[0;34m\u001b[0m\u001b[0m\n",
            "\u001b[0;32m~/anaconda3/lib/python3.9/site-packages/selenium/webdriver/remote/webelement.py\u001b[0m in \u001b[0;36m_execute\u001b[0;34m(self, command, params)\u001b[0m\n\u001b[1;32m    708\u001b[0m             \u001b[0mparams\u001b[0m \u001b[0;34m=\u001b[0m \u001b[0;34m{\u001b[0m\u001b[0;34m}\u001b[0m\u001b[0;34m\u001b[0m\u001b[0;34m\u001b[0m\u001b[0m\n\u001b[1;32m    709\u001b[0m         \u001b[0mparams\u001b[0m\u001b[0;34m[\u001b[0m\u001b[0;34m'id'\u001b[0m\u001b[0;34m]\u001b[0m \u001b[0;34m=\u001b[0m \u001b[0mself\u001b[0m\u001b[0;34m.\u001b[0m\u001b[0m_id\u001b[0m\u001b[0;34m\u001b[0m\u001b[0;34m\u001b[0m\u001b[0m\n\u001b[0;32m--> 710\u001b[0;31m         \u001b[0;32mreturn\u001b[0m \u001b[0mself\u001b[0m\u001b[0;34m.\u001b[0m\u001b[0m_parent\u001b[0m\u001b[0;34m.\u001b[0m\u001b[0mexecute\u001b[0m\u001b[0;34m(\u001b[0m\u001b[0mcommand\u001b[0m\u001b[0;34m,\u001b[0m \u001b[0mparams\u001b[0m\u001b[0;34m)\u001b[0m\u001b[0;34m\u001b[0m\u001b[0;34m\u001b[0m\u001b[0m\n\u001b[0m\u001b[1;32m    711\u001b[0m \u001b[0;34m\u001b[0m\u001b[0m\n\u001b[1;32m    712\u001b[0m     \u001b[0;32mdef\u001b[0m \u001b[0mfind_element\u001b[0m\u001b[0;34m(\u001b[0m\u001b[0mself\u001b[0m\u001b[0;34m,\u001b[0m \u001b[0mby\u001b[0m\u001b[0;34m=\u001b[0m\u001b[0mBy\u001b[0m\u001b[0;34m.\u001b[0m\u001b[0mID\u001b[0m\u001b[0;34m,\u001b[0m \u001b[0mvalue\u001b[0m\u001b[0;34m=\u001b[0m\u001b[0;32mNone\u001b[0m\u001b[0;34m)\u001b[0m\u001b[0;34m:\u001b[0m\u001b[0;34m\u001b[0m\u001b[0;34m\u001b[0m\u001b[0m\n",
            "\u001b[0;32m~/anaconda3/lib/python3.9/site-packages/selenium/webdriver/remote/webdriver.py\u001b[0m in \u001b[0;36mexecute\u001b[0;34m(self, driver_command, params)\u001b[0m\n\u001b[1;32m    422\u001b[0m         \u001b[0mresponse\u001b[0m \u001b[0;34m=\u001b[0m \u001b[0mself\u001b[0m\u001b[0;34m.\u001b[0m\u001b[0mcommand_executor\u001b[0m\u001b[0;34m.\u001b[0m\u001b[0mexecute\u001b[0m\u001b[0;34m(\u001b[0m\u001b[0mdriver_command\u001b[0m\u001b[0;34m,\u001b[0m \u001b[0mparams\u001b[0m\u001b[0;34m)\u001b[0m\u001b[0;34m\u001b[0m\u001b[0;34m\u001b[0m\u001b[0m\n\u001b[1;32m    423\u001b[0m         \u001b[0;32mif\u001b[0m \u001b[0mresponse\u001b[0m\u001b[0;34m:\u001b[0m\u001b[0;34m\u001b[0m\u001b[0;34m\u001b[0m\u001b[0m\n\u001b[0;32m--> 424\u001b[0;31m             \u001b[0mself\u001b[0m\u001b[0;34m.\u001b[0m\u001b[0merror_handler\u001b[0m\u001b[0;34m.\u001b[0m\u001b[0mcheck_response\u001b[0m\u001b[0;34m(\u001b[0m\u001b[0mresponse\u001b[0m\u001b[0;34m)\u001b[0m\u001b[0;34m\u001b[0m\u001b[0;34m\u001b[0m\u001b[0m\n\u001b[0m\u001b[1;32m    425\u001b[0m             response['value'] = self._unwrap_value(\n\u001b[1;32m    426\u001b[0m                 response.get('value', None))\n",
            "\u001b[0;32m~/anaconda3/lib/python3.9/site-packages/selenium/webdriver/remote/errorhandler.py\u001b[0m in \u001b[0;36mcheck_response\u001b[0;34m(self, response)\u001b[0m\n\u001b[1;32m    245\u001b[0m                 \u001b[0malert_text\u001b[0m \u001b[0;34m=\u001b[0m \u001b[0mvalue\u001b[0m\u001b[0;34m[\u001b[0m\u001b[0;34m'alert'\u001b[0m\u001b[0;34m]\u001b[0m\u001b[0;34m.\u001b[0m\u001b[0mget\u001b[0m\u001b[0;34m(\u001b[0m\u001b[0;34m'text'\u001b[0m\u001b[0;34m)\u001b[0m\u001b[0;34m\u001b[0m\u001b[0;34m\u001b[0m\u001b[0m\n\u001b[1;32m    246\u001b[0m             \u001b[0;32mraise\u001b[0m \u001b[0mexception_class\u001b[0m\u001b[0;34m(\u001b[0m\u001b[0mmessage\u001b[0m\u001b[0;34m,\u001b[0m \u001b[0mscreen\u001b[0m\u001b[0;34m,\u001b[0m \u001b[0mstacktrace\u001b[0m\u001b[0;34m,\u001b[0m \u001b[0malert_text\u001b[0m\u001b[0;34m)\u001b[0m  \u001b[0;31m# type: ignore[call-arg]  # mypy is not smart enough here\u001b[0m\u001b[0;34m\u001b[0m\u001b[0;34m\u001b[0m\u001b[0m\n\u001b[0;32m--> 247\u001b[0;31m         \u001b[0;32mraise\u001b[0m \u001b[0mexception_class\u001b[0m\u001b[0;34m(\u001b[0m\u001b[0mmessage\u001b[0m\u001b[0;34m,\u001b[0m \u001b[0mscreen\u001b[0m\u001b[0;34m,\u001b[0m \u001b[0mstacktrace\u001b[0m\u001b[0;34m)\u001b[0m\u001b[0;34m\u001b[0m\u001b[0;34m\u001b[0m\u001b[0m\n\u001b[0m\u001b[1;32m    248\u001b[0m \u001b[0;34m\u001b[0m\u001b[0m\n\u001b[1;32m    249\u001b[0m     \u001b[0;32mdef\u001b[0m \u001b[0m_value_or_default\u001b[0m\u001b[0;34m(\u001b[0m\u001b[0mself\u001b[0m\u001b[0;34m,\u001b[0m \u001b[0mobj\u001b[0m\u001b[0;34m:\u001b[0m \u001b[0mMapping\u001b[0m\u001b[0;34m[\u001b[0m\u001b[0m_KT\u001b[0m\u001b[0;34m,\u001b[0m \u001b[0m_VT\u001b[0m\u001b[0;34m]\u001b[0m\u001b[0;34m,\u001b[0m \u001b[0mkey\u001b[0m\u001b[0;34m:\u001b[0m \u001b[0m_KT\u001b[0m\u001b[0;34m,\u001b[0m \u001b[0mdefault\u001b[0m\u001b[0;34m:\u001b[0m \u001b[0m_VT\u001b[0m\u001b[0;34m)\u001b[0m \u001b[0;34m->\u001b[0m \u001b[0m_VT\u001b[0m\u001b[0;34m:\u001b[0m\u001b[0;34m\u001b[0m\u001b[0;34m\u001b[0m\u001b[0m\n",
            "\u001b[0;31mElementClickInterceptedException\u001b[0m: Message: element click intercepted: Element <a href=\"#!\" class=\"button-daha\">...</a> is not clickable at point (280, 864). Other element would receive the click: <div class=\"col-sm-10\">...</div>\n  (Session info: chrome=96.0.4664.110)\nStacktrace:\n#0 0x5574fa7ddee3 <unknown>\n#1 0x5574fa2ab608 <unknown>\n#2 0x5574fa2e9044 <unknown>\n#3 0x5574fa2e6af4 <unknown>\n#4 0x5574fa2e42da <unknown>\n#5 0x5574fa2e2ce2 <unknown>\n#6 0x5574fa2d67b8 <unknown>\n#7 0x5574fa2ff272 <unknown>\n#8 0x5574fa2d6063 <unknown>\n#9 0x5574fa2ff37e <unknown>\n#10 0x5574fa3123bc <unknown>\n#11 0x5574fa2ff163 <unknown>\n#12 0x5574fa2d4bfc <unknown>\n#13 0x5574fa2d5c05 <unknown>\n#14 0x5574fa80fbaa <unknown>\n#15 0x5574fa825651 <unknown>\n#16 0x5574fa810b05 <unknown>\n#17 0x5574fa826a68 <unknown>\n#18 0x5574fa80505f <unknown>\n#19 0x5574fa841818 <unknown>\n#20 0x5574fa841998 <unknown>\n#21 0x5574fa85ceed <unknown>\n#22 0x7f5a6bfff609 <unknown>\n"
          ]
        }
      ]
    },
    {
      "cell_type": "code",
      "source": [
        "driver=webdriver.Chrome('/usr/bin/chromedriver')\n",
        "# brows=driver.get('https://www.aa.com.tr/en/science-technology')\n",
        "brows=driver.get('https://www.aa.com.tr/en/Search#!')\n",
        "time.sleep(3)\n",
        "driver.maximize_window()\n",
        "but=driver.find_element_by_xpath('/html/body/div[2]/main/div[4]/div[1]/div[1]/input[1]')\n",
        "but.send_keys(\"technology\")\n",
        "driver.execute_script(\"window.scrollBy(0,1000)\")\n",
        "time.sleep(2)\n",
        "driver.execute_script(\"window.scrollBy(0,1000)\")\n",
        "arama_tikla=driver.find_element_by_xpath('//*[@id=\"arama\"]')\n",
        "arama_tikla.click()\n",
        "# but2=driver.find find_element_by_xpath('')\n",
        "link=[]\n",
        "driver.execute_script(\"window.scrollBy(0,2000)\")\n",
        "time.sleep(3)\n",
        "driver.execute_script(\"window.scrollBy(0,2400)\")\n",
        "\n",
        "# sayfa_kay= brows.page_source\n",
        "# soup = BeautifulSoup(sayfa_kay, \"html.parser\")\n",
        "# for a in soup.find_all('a', href=True):\n",
        "#   link.append(a)\n",
        "\n",
        "#/html/body/div/main/div[9]/div[3]/a\n",
        "count=0\n",
        "for i in range(3000):\n",
        "  \n",
        "  driver.execute_script(\"window.scrollBy(0,3500)\")\n",
        "  time.sleep(3)\n",
        "  driver.find_element_by_xpath('/html/body/div[2]/main/div[4]/div[4]/a').click()\n",
        "  ids=driver.find_elements_by_xpath('//*[@href]')\n",
        "  for a in ids:\n",
        "    count=count+1\n",
        "    l=a.get_attribute('href')\n",
        "\n",
        "    if a.get_attribute('href').startswith(\"https://www.aa.com.tr/en/science-technology\") and count%2==1:\n",
        "    # if(a.get_attribute('href')):\n",
        "      i=a.get_attribute('href')\n",
        "      with open(\"aa_link_only_technology.txt\", 'a') as file: \n",
        "             file.write(i+'\\n')\n",
        "    elif len(l)>60 and a.get_attribute('href').startswith(\"https://www.aa.com.tr\") and count%2==1:\n",
        "    # if(a.get_attribute('href')):\n",
        "      i=a.get_attribute('href')\n",
        "      with open(\"aa_link_technology2.txt\", 'a') as file: \n",
        "             file.write(i+'\\n')   \n",
        "    \n",
        "    else:\n",
        "      pass\n",
        "  time.sleep(3)"
      ],
      "metadata": {
        "id": "dmMyXtAXbiVE",
        "colab": {
          "base_uri": "https://localhost:8080/"
        },
        "outputId": "eca3e88b-692f-48f4-c2c9-cc0f1b634b1e"
      },
      "execution_count": null,
      "outputs": [
        {
          "output_type": "stream",
          "name": "stderr",
          "text": [
            "/tmp/ipykernel_7744/3211094781.py:1: DeprecationWarning: executable_path has been deprecated, please pass in a Service object\n",
            "  driver=webdriver.Chrome('/usr/bin/chromedriver')\n",
            "/tmp/ipykernel_7744/3211094781.py:6: DeprecationWarning: find_element_by_* commands are deprecated. Please use find_element() instead\n",
            "  but=driver.find_element_by_xpath('/html/body/div[2]/main/div[4]/div[1]/div[1]/input[1]')\n",
            "/tmp/ipykernel_7744/3211094781.py:11: DeprecationWarning: find_element_by_* commands are deprecated. Please use find_element() instead\n",
            "  arama_tikla=driver.find_element_by_xpath('//*[@id=\"arama\"]')\n",
            "/tmp/ipykernel_7744/3211094781.py:30: DeprecationWarning: find_element_by_* commands are deprecated. Please use find_element() instead\n",
            "  driver.find_element_by_xpath('/html/body/div[2]/main/div[4]/div[4]/a').click()\n",
            "/tmp/ipykernel_7744/3211094781.py:31: DeprecationWarning: find_elements_by_* commands are deprecated. Please use find_elements() instead\n",
            "  ids=driver.find_elements_by_xpath('//*[@href]')\n"
          ]
        },
        {
          "output_type": "error",
          "ename": "ElementClickInterceptedException",
          "evalue": "ignored",
          "traceback": [
            "\u001b[0;31m---------------------------------------------------------------------------\u001b[0m",
            "\u001b[0;31mElementClickInterceptedException\u001b[0m          Traceback (most recent call last)",
            "\u001b[0;32m/tmp/ipykernel_7744/3211094781.py\u001b[0m in \u001b[0;36m<module>\u001b[0;34m\u001b[0m\n\u001b[1;32m     28\u001b[0m   \u001b[0mdriver\u001b[0m\u001b[0;34m.\u001b[0m\u001b[0mexecute_script\u001b[0m\u001b[0;34m(\u001b[0m\u001b[0;34m\"window.scrollBy(0,3500)\"\u001b[0m\u001b[0;34m)\u001b[0m\u001b[0;34m\u001b[0m\u001b[0;34m\u001b[0m\u001b[0m\n\u001b[1;32m     29\u001b[0m   \u001b[0mtime\u001b[0m\u001b[0;34m.\u001b[0m\u001b[0msleep\u001b[0m\u001b[0;34m(\u001b[0m\u001b[0;36m3\u001b[0m\u001b[0;34m)\u001b[0m\u001b[0;34m\u001b[0m\u001b[0;34m\u001b[0m\u001b[0m\n\u001b[0;32m---> 30\u001b[0;31m   \u001b[0mdriver\u001b[0m\u001b[0;34m.\u001b[0m\u001b[0mfind_element_by_xpath\u001b[0m\u001b[0;34m(\u001b[0m\u001b[0;34m'/html/body/div[2]/main/div[4]/div[4]/a'\u001b[0m\u001b[0;34m)\u001b[0m\u001b[0;34m.\u001b[0m\u001b[0mclick\u001b[0m\u001b[0;34m(\u001b[0m\u001b[0;34m)\u001b[0m\u001b[0;34m\u001b[0m\u001b[0;34m\u001b[0m\u001b[0m\n\u001b[0m\u001b[1;32m     31\u001b[0m   \u001b[0mids\u001b[0m\u001b[0;34m=\u001b[0m\u001b[0mdriver\u001b[0m\u001b[0;34m.\u001b[0m\u001b[0mfind_elements_by_xpath\u001b[0m\u001b[0;34m(\u001b[0m\u001b[0;34m'//*[@href]'\u001b[0m\u001b[0;34m)\u001b[0m\u001b[0;34m\u001b[0m\u001b[0;34m\u001b[0m\u001b[0m\n\u001b[1;32m     32\u001b[0m   \u001b[0;32mfor\u001b[0m \u001b[0ma\u001b[0m \u001b[0;32min\u001b[0m \u001b[0mids\u001b[0m\u001b[0;34m:\u001b[0m\u001b[0;34m\u001b[0m\u001b[0;34m\u001b[0m\u001b[0m\n",
            "\u001b[0;32m~/anaconda3/lib/python3.9/site-packages/selenium/webdriver/remote/webelement.py\u001b[0m in \u001b[0;36mclick\u001b[0;34m(self)\u001b[0m\n\u001b[1;32m     79\u001b[0m     \u001b[0;32mdef\u001b[0m \u001b[0mclick\u001b[0m\u001b[0;34m(\u001b[0m\u001b[0mself\u001b[0m\u001b[0;34m)\u001b[0m \u001b[0;34m->\u001b[0m \u001b[0;32mNone\u001b[0m\u001b[0;34m:\u001b[0m\u001b[0;34m\u001b[0m\u001b[0;34m\u001b[0m\u001b[0m\n\u001b[1;32m     80\u001b[0m         \u001b[0;34m\"\"\"Clicks the element.\"\"\"\u001b[0m\u001b[0;34m\u001b[0m\u001b[0;34m\u001b[0m\u001b[0m\n\u001b[0;32m---> 81\u001b[0;31m         \u001b[0mself\u001b[0m\u001b[0;34m.\u001b[0m\u001b[0m_execute\u001b[0m\u001b[0;34m(\u001b[0m\u001b[0mCommand\u001b[0m\u001b[0;34m.\u001b[0m\u001b[0mCLICK_ELEMENT\u001b[0m\u001b[0;34m)\u001b[0m\u001b[0;34m\u001b[0m\u001b[0;34m\u001b[0m\u001b[0m\n\u001b[0m\u001b[1;32m     82\u001b[0m \u001b[0;34m\u001b[0m\u001b[0m\n\u001b[1;32m     83\u001b[0m     \u001b[0;32mdef\u001b[0m \u001b[0msubmit\u001b[0m\u001b[0;34m(\u001b[0m\u001b[0mself\u001b[0m\u001b[0;34m)\u001b[0m\u001b[0;34m:\u001b[0m\u001b[0;34m\u001b[0m\u001b[0;34m\u001b[0m\u001b[0m\n",
            "\u001b[0;32m~/anaconda3/lib/python3.9/site-packages/selenium/webdriver/remote/webelement.py\u001b[0m in \u001b[0;36m_execute\u001b[0;34m(self, command, params)\u001b[0m\n\u001b[1;32m    708\u001b[0m             \u001b[0mparams\u001b[0m \u001b[0;34m=\u001b[0m \u001b[0;34m{\u001b[0m\u001b[0;34m}\u001b[0m\u001b[0;34m\u001b[0m\u001b[0;34m\u001b[0m\u001b[0m\n\u001b[1;32m    709\u001b[0m         \u001b[0mparams\u001b[0m\u001b[0;34m[\u001b[0m\u001b[0;34m'id'\u001b[0m\u001b[0;34m]\u001b[0m \u001b[0;34m=\u001b[0m \u001b[0mself\u001b[0m\u001b[0;34m.\u001b[0m\u001b[0m_id\u001b[0m\u001b[0;34m\u001b[0m\u001b[0;34m\u001b[0m\u001b[0m\n\u001b[0;32m--> 710\u001b[0;31m         \u001b[0;32mreturn\u001b[0m \u001b[0mself\u001b[0m\u001b[0;34m.\u001b[0m\u001b[0m_parent\u001b[0m\u001b[0;34m.\u001b[0m\u001b[0mexecute\u001b[0m\u001b[0;34m(\u001b[0m\u001b[0mcommand\u001b[0m\u001b[0;34m,\u001b[0m \u001b[0mparams\u001b[0m\u001b[0;34m)\u001b[0m\u001b[0;34m\u001b[0m\u001b[0;34m\u001b[0m\u001b[0m\n\u001b[0m\u001b[1;32m    711\u001b[0m \u001b[0;34m\u001b[0m\u001b[0m\n\u001b[1;32m    712\u001b[0m     \u001b[0;32mdef\u001b[0m \u001b[0mfind_element\u001b[0m\u001b[0;34m(\u001b[0m\u001b[0mself\u001b[0m\u001b[0;34m,\u001b[0m \u001b[0mby\u001b[0m\u001b[0;34m=\u001b[0m\u001b[0mBy\u001b[0m\u001b[0;34m.\u001b[0m\u001b[0mID\u001b[0m\u001b[0;34m,\u001b[0m \u001b[0mvalue\u001b[0m\u001b[0;34m=\u001b[0m\u001b[0;32mNone\u001b[0m\u001b[0;34m)\u001b[0m\u001b[0;34m:\u001b[0m\u001b[0;34m\u001b[0m\u001b[0;34m\u001b[0m\u001b[0m\n",
            "\u001b[0;32m~/anaconda3/lib/python3.9/site-packages/selenium/webdriver/remote/webdriver.py\u001b[0m in \u001b[0;36mexecute\u001b[0;34m(self, driver_command, params)\u001b[0m\n\u001b[1;32m    422\u001b[0m         \u001b[0mresponse\u001b[0m \u001b[0;34m=\u001b[0m \u001b[0mself\u001b[0m\u001b[0;34m.\u001b[0m\u001b[0mcommand_executor\u001b[0m\u001b[0;34m.\u001b[0m\u001b[0mexecute\u001b[0m\u001b[0;34m(\u001b[0m\u001b[0mdriver_command\u001b[0m\u001b[0;34m,\u001b[0m \u001b[0mparams\u001b[0m\u001b[0;34m)\u001b[0m\u001b[0;34m\u001b[0m\u001b[0;34m\u001b[0m\u001b[0m\n\u001b[1;32m    423\u001b[0m         \u001b[0;32mif\u001b[0m \u001b[0mresponse\u001b[0m\u001b[0;34m:\u001b[0m\u001b[0;34m\u001b[0m\u001b[0;34m\u001b[0m\u001b[0m\n\u001b[0;32m--> 424\u001b[0;31m             \u001b[0mself\u001b[0m\u001b[0;34m.\u001b[0m\u001b[0merror_handler\u001b[0m\u001b[0;34m.\u001b[0m\u001b[0mcheck_response\u001b[0m\u001b[0;34m(\u001b[0m\u001b[0mresponse\u001b[0m\u001b[0;34m)\u001b[0m\u001b[0;34m\u001b[0m\u001b[0;34m\u001b[0m\u001b[0m\n\u001b[0m\u001b[1;32m    425\u001b[0m             response['value'] = self._unwrap_value(\n\u001b[1;32m    426\u001b[0m                 response.get('value', None))\n",
            "\u001b[0;32m~/anaconda3/lib/python3.9/site-packages/selenium/webdriver/remote/errorhandler.py\u001b[0m in \u001b[0;36mcheck_response\u001b[0;34m(self, response)\u001b[0m\n\u001b[1;32m    245\u001b[0m                 \u001b[0malert_text\u001b[0m \u001b[0;34m=\u001b[0m \u001b[0mvalue\u001b[0m\u001b[0;34m[\u001b[0m\u001b[0;34m'alert'\u001b[0m\u001b[0;34m]\u001b[0m\u001b[0;34m.\u001b[0m\u001b[0mget\u001b[0m\u001b[0;34m(\u001b[0m\u001b[0;34m'text'\u001b[0m\u001b[0;34m)\u001b[0m\u001b[0;34m\u001b[0m\u001b[0;34m\u001b[0m\u001b[0m\n\u001b[1;32m    246\u001b[0m             \u001b[0;32mraise\u001b[0m \u001b[0mexception_class\u001b[0m\u001b[0;34m(\u001b[0m\u001b[0mmessage\u001b[0m\u001b[0;34m,\u001b[0m \u001b[0mscreen\u001b[0m\u001b[0;34m,\u001b[0m \u001b[0mstacktrace\u001b[0m\u001b[0;34m,\u001b[0m \u001b[0malert_text\u001b[0m\u001b[0;34m)\u001b[0m  \u001b[0;31m# type: ignore[call-arg]  # mypy is not smart enough here\u001b[0m\u001b[0;34m\u001b[0m\u001b[0;34m\u001b[0m\u001b[0m\n\u001b[0;32m--> 247\u001b[0;31m         \u001b[0;32mraise\u001b[0m \u001b[0mexception_class\u001b[0m\u001b[0;34m(\u001b[0m\u001b[0mmessage\u001b[0m\u001b[0;34m,\u001b[0m \u001b[0mscreen\u001b[0m\u001b[0;34m,\u001b[0m \u001b[0mstacktrace\u001b[0m\u001b[0;34m)\u001b[0m\u001b[0;34m\u001b[0m\u001b[0;34m\u001b[0m\u001b[0m\n\u001b[0m\u001b[1;32m    248\u001b[0m \u001b[0;34m\u001b[0m\u001b[0m\n\u001b[1;32m    249\u001b[0m     \u001b[0;32mdef\u001b[0m \u001b[0m_value_or_default\u001b[0m\u001b[0;34m(\u001b[0m\u001b[0mself\u001b[0m\u001b[0;34m,\u001b[0m \u001b[0mobj\u001b[0m\u001b[0;34m:\u001b[0m \u001b[0mMapping\u001b[0m\u001b[0;34m[\u001b[0m\u001b[0m_KT\u001b[0m\u001b[0;34m,\u001b[0m \u001b[0m_VT\u001b[0m\u001b[0;34m]\u001b[0m\u001b[0;34m,\u001b[0m \u001b[0mkey\u001b[0m\u001b[0;34m:\u001b[0m \u001b[0m_KT\u001b[0m\u001b[0;34m,\u001b[0m \u001b[0mdefault\u001b[0m\u001b[0;34m:\u001b[0m \u001b[0m_VT\u001b[0m\u001b[0;34m)\u001b[0m \u001b[0;34m->\u001b[0m \u001b[0m_VT\u001b[0m\u001b[0;34m:\u001b[0m\u001b[0;34m\u001b[0m\u001b[0;34m\u001b[0m\u001b[0m\n",
            "\u001b[0;31mElementClickInterceptedException\u001b[0m: Message: element click intercepted: Element <a href=\"#!\" class=\"button-daha\">...</a> is not clickable at point (280, 888). Other element would receive the click: <div id=\"cookiepolicy\" style=\"z-index: 9999; position: fixed; width: 100%; left: 50%; transform: translateX(-50%); bottom: 0px; background: rgb(4, 51, 77); padding: 20px; font-size: 12px; line-height: 16px;\">...</div>\n  (Session info: chrome=96.0.4664.110)\nStacktrace:\n#0 0x55cf406beee3 <unknown>\n#1 0x55cf4018c608 <unknown>\n#2 0x55cf401ca044 <unknown>\n#3 0x55cf401c7af4 <unknown>\n#4 0x55cf401c52da <unknown>\n#5 0x55cf401c3ce2 <unknown>\n#6 0x55cf401b77b8 <unknown>\n#7 0x55cf401e0272 <unknown>\n#8 0x55cf401b7063 <unknown>\n#9 0x55cf401e037e <unknown>\n#10 0x55cf401f33bc <unknown>\n#11 0x55cf401e0163 <unknown>\n#12 0x55cf401b5bfc <unknown>\n#13 0x55cf401b6c05 <unknown>\n#14 0x55cf406f0baa <unknown>\n#15 0x55cf40706651 <unknown>\n#16 0x55cf406f1b05 <unknown>\n#17 0x55cf40707a68 <unknown>\n#18 0x55cf406e605f <unknown>\n#19 0x55cf40722818 <unknown>\n#20 0x55cf40722998 <unknown>\n#21 0x55cf4073deed <unknown>\n#22 0x7f3735494609 <unknown>\n"
          ]
        }
      ]
    }
  ]
}