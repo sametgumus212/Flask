{
  "nbformat": 4,
  "nbformat_minor": 0,
  "metadata": {
    "colab": {
      "name": "standartnews_bg.ipynb",
      "provenance": [],
      "collapsed_sections": [],
      "authorship_tag": "ABX9TyOC0+6IKn/ODg2klCMx5Yvt",
      "include_colab_link": true
    },
    "kernelspec": {
      "name": "python3",
      "display_name": "Python 3"
    },
    "language_info": {
      "name": "python"
    }
  },
  "cells": [
    {
      "cell_type": "markdown",
      "metadata": {
        "id": "view-in-github",
        "colab_type": "text"
      },
      "source": [
        "<a href=\"https://colab.research.google.com/github/sametgumus212/Flask/blob/main/standartnews_bg.ipynb\" target=\"_parent\"><img src=\"https://colab.research.google.com/assets/colab-badge.svg\" alt=\"Open In Colab\"/></a>"
      ]
    },
    {
      "cell_type": "code",
      "metadata": {
        "colab": {
          "base_uri": "https://localhost:8080/"
        },
        "id": "6e3wzeNoxhR7",
        "outputId": "402379e1-5ee7-4224-a686-349ed06cd026"
      },
      "source": [
        "import os\n",
        "from google.colab import drive\n",
        "drive.mount('/content/drive/', force_remount=True)"
      ],
      "execution_count": 1,
      "outputs": [
        {
          "output_type": "stream",
          "text": [
            "Mounted at /content/drive/\n"
          ],
          "name": "stdout"
        }
      ]
    },
    {
      "cell_type": "code",
      "metadata": {
        "id": "QVGoEduq09j5"
      },
      "source": [
        "import bs4\n",
        "import requests\n",
        "from bs4 import BeautifulSoup\n",
        "import pandas as pd\n",
        "import numpy as np\n",
        "import os\n",
        "import urllib.request\n",
        "import re\n",
        "from pandas import DataFrame\n",
        "import csv"
      ],
      "execution_count": 2,
      "outputs": []
    },
    {
      "cell_type": "code",
      "metadata": {
        "id": "iMTGc2-5x91p"
      },
      "source": [
        "def pagecountfinder(link):\n",
        "  category_array=[]\n",
        "  req = requests.get(link)\n",
        "  soup = BeautifulSoup(req.content, \"lxml\")\n",
        "  title=soup.find(\"div\",attrs={\"class\":\"btn-wrap\"}).a.get('href') \n",
        "  while len(title)>3:\n",
        "    #print(title)\n",
        "    ps=title\n",
        "    with open(\"/content/drive/MyDrive/bg_tr/standartnews.com/category_links_output.txt\", 'a') as file: \n",
        "      \n",
        "      file.write(ps+'\\n')\n",
        "      file.truncate()\n",
        "    return pagecountfinder(title)\n"
      ],
      "execution_count": null,
      "outputs": []
    },
    {
      "cell_type": "code",
      "metadata": {
        "id": "6nvfa11cz2jp"
      },
      "source": [
        "def headermenuitemfinder(link):\n",
        "  category_array=[]\n",
        "  req = requests.get(link)\n",
        "  soup = BeautifulSoup(req.content, \"lxml\")\n",
        "  title=soup.findAll(\"div\",attrs={\"class\":\"swiper-slide\"})\n",
        "  for i in title:\n",
        "    b=i.a.get(\"href\")\n",
        "    category_array.append(b)\n",
        "  return category_array"
      ],
      "execution_count": null,
      "outputs": []
    },
    {
      "cell_type": "code",
      "metadata": {
        "colab": {
          "base_uri": "https://localhost:8080/"
        },
        "id": "2k_gygUZ0jtv",
        "outputId": "4e6b3089-b6e5-40b3-c5a4-3a1cb042c72a"
      },
      "source": [
        "uur=\"https://www.standartnews.com/\"\n",
        "categorieslink=headermenuitemfinder(uur)\n",
        "for i in categorieslink:\n",
        "  print(i)\n",
        "  # pagecountfinder(i)"
      ],
      "execution_count": null,
      "outputs": [
        {
          "output_type": "stream",
          "text": [
            "https://www.standartnews.com/balgariya-politika.html\n",
            "https://www.standartnews.com/parlamentarni-izbori-2021.html\n",
            "https://standartnews.com/balgariya-obshtestvo.html\n",
            "https://www.standartnews.com/zarazata.html\n",
            "https://standartnews.com/chudesata_na_balgariya.html\n",
            "https://www.standartnews.com/lifestyle-lyubopitno.html\n",
            "https://standartnews.com/biznes.html\n",
            "https://standartnews.com/svyat.html\n",
            "https://standartnews.com/sport.html\n",
            "https://www.standartnews.com/da-na-blgarskata-khrana.html\n",
            "https://www.standartnews.com/balgariya-pravosudie.html\n",
            "https://www.standartnews.com/moyat-grad.html\n",
            "https://standartnews.com/kultura.html\n",
            "https://standartnews.com/regionalni.html\n",
            "https://www.standartnews.com/malki-obyavi.html\n"
          ],
          "name": "stdout"
        }
      ]
    },
    {
      "cell_type": "code",
      "metadata": {
        "colab": {
          "base_uri": "https://localhost:8080/"
        },
        "id": "ufDnoKCRTw29",
        "outputId": "6b846cba-4139-42bf-fe8b-c84a5e3fa11a"
      },
      "source": [
        "pagecountfinder(\"https://www.standartnews.com/balgariya-politika.html?page=2228\")"
      ],
      "execution_count": null,
      "outputs": [
        {
          "output_type": "stream",
          "text": [
            "https://www.standartnews.com/balgariya-politika.html?page=2229\n",
            "https://www.standartnews.com/balgariya-politika.html?page=2230\n"
          ],
          "name": "stdout"
        }
      ]
    },
    {
      "cell_type": "code",
      "metadata": {
        "id": "9sKl-MNtggXZ"
      },
      "source": [
        "def p_count(link,ss,kk):\n",
        "  arr=[]\n",
        "  s=ss\n",
        "  k=kk\n",
        "  link1=link\n",
        "  for i in range()\n",
        "    if (s==529):\n",
        "      break\n",
        "    else:\n",
        "      ps=\"{}{}{}\".format(link,\"?page=\",s)\n",
        "      #arr.append(ps)\n",
        "      s=int(k/2)\n",
        "      k=int(k/2)\n",
        "      print(ps)   \n",
        "      \n",
        "      return p_count(link1,1,10000)\n"
      ],
      "execution_count": null,
      "outputs": []
    },
    {
      "cell_type": "code",
      "metadata": {
        "id": "pVbbg5AKi4it"
      },
      "source": [
        "p_count(\"https://www.standartnews.com/balgariya-politika.html\")"
      ],
      "execution_count": null,
      "outputs": []
    },
    {
      "cell_type": "code",
      "metadata": {
        "id": "SKkmlPfmmVR3"
      },
      "source": [
        "def get_inner_page_links(link):\n",
        "  req = requests.get(link)\n",
        "  soup = BeautifulSoup(req.content, \"lxml\")\n",
        "  title=soup.findAll(\"div\",attrs={\"class\":\"news-cont\"})\n",
        "  d=link\n",
        "  # print(title)\n",
        "  # k=\"\"\n",
        "  s=0\n",
        "  for i in title:\n",
        "    if(s==19):\n",
        "      break\n",
        "    print(i.a.get(\"href\"))\n",
        "    s+=1\n",
        "  #   titlem=soup.findAll(\"div\",attrs={\"class\":\"news-cont\"})\n",
        "  #   for j in titlem:\n",
        "     \n",
        "  #     b=j.a.get(\"href\")\n",
        "\n",
        "  #     k=b\n",
        "  #     if(b.startswith(d)):\n",
        "  #       print(b)\n"
      ],
      "execution_count": null,
      "outputs": []
    },
    {
      "cell_type": "code",
      "metadata": {
        "colab": {
          "base_uri": "https://localhost:8080/"
        },
        "id": "2_jpzZXU8-eg",
        "outputId": "c72549ca-607f-4400-fbe6-a4bcae34ae9b"
      },
      "source": [
        "ur=\"https://www.standartnews.com/balgariya-politika.html?page=2229\"\n",
        "get_inner_page_links(ur)"
      ],
      "execution_count": null,
      "outputs": [
        {
          "output_type": "stream",
          "text": [
            "https://www.standartnews.com/balgariya-politika/vatreshniyat_ministar_uvolnyava_ivan_ivanov_dnes-254-254-254.html\n",
            "https://www.standartnews.com/balgariya-politika/nad_50_hilyadi_struva_otsyadaneto_na_vlastta_kray_razlog-247-247-247.html\n",
            "https://www.standartnews.com/balgariya-politika/stanishevmvr_tryabva_da_zaraboti-245-245-245-245.html\n",
            "https://www.standartnews.com/balgariya-politika/izlishakat_ostava_3_ot_bvp-243-243-243-243.html\n",
            "https://www.standartnews.com/balgariya-politika/zakonat_za_konflikt_na_interesi_vliza_v_pravitelstvoto_do_dni-241-241-241-241.html\n",
            "https://www.standartnews.com/balgariya-politika/zdravnata_vnoska_stava_8_ot_1_yanuari-239-239.html\n",
            "https://www.standartnews.com/balgariya-politika/koshlukov_bryuksel_ni_pogva_za_byudjetniya_izlishak-225-225.html\n",
            "https://www.standartnews.com/balgariya-politika/varnaha_na_carya_dvoreca_krichim-222-222.html\n",
            "https://www.standartnews.com/balgariya-politika/upravlyavashtite_zapochnaha_s_evrofondovete-213-213-213-213.html\n",
            "https://www.standartnews.com/balgariya-politika/mikov_ochakva_silno_ramo_na_katarino-202-202.html\n",
            "https://www.standartnews.com/balgariya-politika/nov_skandal_grablivi_noshtni_ptici-182-182.html\n",
            "https://www.standartnews.com/balgariya-politika/stanishev_nyama_politicheska_protekciya_na_mitnicite-169-169.html\n",
            "https://www.standartnews.com/balgariya-politika/iskat_da_svalyat_obshtinski_shef_zaradi_alyosha-165-165-165-165-165-165.html\n",
            "https://www.standartnews.com/balgariya-politika/prez_uikenda_vlastta_se_koncentrira_kray_razlog-159-159.html\n",
            "https://www.standartnews.com/balgariya-politika/silni_merki_za_vatreshna_sigurnost_iska_mihail_mikov-151-151-151.html\n",
            "https://www.standartnews.com/balgariya-politika/vlastta_reshava_speshno_za_kontingenta_v_irak-144-144.html\n",
            "https://www.standartnews.com/balgariya-obshtestvo/protestirashchi-blokirakha-tsarigradsko-shose-462463.html\n",
            "https://www.standartnews.com/balgariya-politika/karimanski-ima-konflikt-na-interesi-pri-bbr-462464.html\n",
            "https://www.standartnews.com/lifestyle-lyubopitno/viki-s-izpoved-za-bolestta-na-bashcha-si-462462.html\n"
          ],
          "name": "stdout"
        }
      ]
    },
    {
      "cell_type": "code",
      "metadata": {
        "colab": {
          "base_uri": "https://localhost:8080/"
        },
        "id": "NmEidTR3PU_f",
        "outputId": "b3cd7b6c-0ad7-484b-bd38-343eef05d93b"
      },
      "source": [
        "urll=\"https://www.standartnews.com/balgariya-politika/karimanski-ima-konflikt-na-interesi-pri-bbr-462464.html\"\n",
        "creator(urll)"
      ],
      "execution_count": null,
      "outputs": [
        {
          "output_type": "execute_result",
          "data": {
            "text/plain": [
              "['https://www.standartnews.com/balgariya-politika/karimanski-ima-konflikt-na-interesi-pri-bbr-462464.html',\n",
              " '2021-05-30 19:11:00',\n",
              " 'Каримански: Има конфликт на интереси при ББР',\n",
              " 'Има конфликт на интереси и взаимосвързаности при фирмите, на които ББР е отпускала кредити. Това заяви топфинансовият експерт на партия „Има такъв народ” Любомир Каримански в предаването „120 минути“ по бТВ. Каримански бе депутат в 45-ото НС, автор е заедно с цял екип на финансовата и бюджетна програма на партията на Слави Трифонов.Каримански коментира случилото се в ББР на база своя 20-годишен опит в банковия сектор. Той е експерт в иновативните банкови услуги, преподавал е в УНСС. Има впечатляваща биография. Има стаж не само търговски трезори, но и в европейски регулатори. Работел е в Европейския банков орган, където е координирал дигиталната трансформация на банките.„Имам информация, че при някои от сделките в ББР е имало конфликт на интереси. Например човек от ръководството на банката е отпуснал кредит на дъщерно дружество на банката, на което е бил изпълнителен директор. През 2016 г. председателят на Управителния съвет на банката е гласувал да се отпусне този кредит на дружество, на което е изпълнителен директор. Кредитът не е толкова голям като тези на осемте фирми с най-големи кредити, но самата практика показва, че има нарушения на законовите разпоредби. Не бих казал, че става въпрос за изолиран случай“, заяви Каримански.Включих се в политическия живот поради факта, че положението в България стана нетърпимо от гледна точка на корупционните практики, които съществуват, че няма бъдеще за децата, които трябва да израснат в друга, по-добра страна. Липсва върховенство на закона, каза Каримански.Банката за развитие се подчинява на два закона – закона за кредитните институции и закона за ББР. От гледна точка на първия – формално са изпълнение всички законови изисквания. Но според втория закон банката трябва да работи с малките и средни предприятия. Според европейската практика, определена с евродиректива, това са фирми с оборот до 50 млн. евро /100 млн. лева/ и има заети до 250 заети души, каза Каримански.']"
            ]
          },
          "metadata": {
            "tags": []
          },
          "execution_count": 61
        }
      ]
    },
    {
      "cell_type": "code",
      "metadata": {
        "id": "qKLAXJCvPYYE"
      },
      "source": [
        "def creator(link):\n",
        "  inner_array=[]\n",
        "  atxt=\"\"  \n",
        "  inner_array.append(link)    \n",
        "  r = requests.get(link)   \n",
        "  soup = BeautifulSoup(r.content, 'html5lib')\n",
        "  dat=soup.find(\"span\",attrs={\"class\":\"time-published\"}).time.get(\"datetime\")  \n",
        "  inner_array.append(dat)\n",
        "  title=soup.find(\"div\",attrs={\"class\":\"title-cont\"}).h1.getText()  \n",
        "  inner_array.append(title)      \n",
        "  table = soup.find(\"div\", attrs = {\"class\":\"content\"}).findAll('p')\n",
        "  for i in table:\n",
        "        atxt+=i.getText()\n",
        "  inner_array.append(atxt)  \n",
        "  ps=\"\"\n",
        "  with open(\"/content/drive/MyDrive/bg_tr/duma.bg/cput.txt\", 'a') as file: \n",
        "    #ps=\"{}{}{}{}{}{}{}\".format(pdd[0],\";\",pdd[1],\";\",pdd[2],\";\",pdd[3])\n",
        "    ps=\"{}{}{}{}{}{}{}\".format(inner_array[0],\";\",inner_array[1],\";\",inner_array[2],\";\",inner_array[3])\n",
        "    file.write(ps+'\\n')\n",
        "  return inner_array"
      ],
      "execution_count": null,
      "outputs": []
    },
    {
      "cell_type": "code",
      "metadata": {
        "id": "pabtcEplPnPQ"
      },
      "source": [
        ""
      ],
      "execution_count": null,
      "outputs": []
    },
    {
      "cell_type": "markdown",
      "metadata": {
        "id": "HpfA9itRmMM2"
      },
      "source": [
        "https://www.banker.bg/archive/05-01-2015"
      ]
    },
    {
      "cell_type": "code",
      "metadata": {
        "id": "oDJEKj2tZCFs"
      },
      "source": [
        "\n",
        "import datetime\n",
        "from datetime import datetime, timedelta"
      ],
      "execution_count": null,
      "outputs": []
    },
    {
      "cell_type": "code",
      "metadata": {
        "id": "daqlXliJZsj2"
      },
      "source": [
        "def pagecountfinder(link):\n",
        "  r = requests.get(link)   \n",
        "  soup = BeautifulSoup(r.content, 'html5lib')\n",
        "  try:\n",
        "    dat=soup.find(\"ul\",attrs={\"class\":\"pagination pagination-sm\"}).findAll(\"li\")\n",
        "    txt=(dat[-1].a.get(\"href\"))  \n",
        "    count=int(txt[-1])\n",
        "  except:\n",
        "    # print(link)\n",
        "    # print(link[-10:])\n",
        "    count=2\n",
        "    txt=\"{}{}{}\".format(\"/archive/\",link[-10:],\"/page//\") \n",
        "    \n",
        "  return txt,count"
      ],
      "execution_count": null,
      "outputs": []
    },
    {
      "cell_type": "code",
      "metadata": {
        "id": "W2esEGIiZCmy"
      },
      "source": [
        "\n",
        "def linkcreator(t1,t2):\n",
        "  t = timedelta(days = 1)\n",
        "  txt=\"\"\n",
        "  newdate=\"\"\n",
        "  url_in=\"\"\n",
        "  array_page_link=[]\n",
        "  url=\"https://www.banker.bg/archive/\"\n",
        "  dates = np.arange(t1, t2, t).astype(datetime)\n",
        "  for i in dates:\n",
        "    # print(i.strftime('%d-%m-%Y'))\n",
        "    newdate=i.strftime('%d-%m-%Y')\n",
        "    url_in=\"{}{}\".format(url,newdate)\n",
        "    # print(url_in)\n",
        "    ret_link,pagecount=pagecountfinder(url_in)   #********************\n",
        "    new_link=ret_link[:-1]\n",
        "    # print(new_link)\n",
        "    for i in range(1,pagecount,1):\n",
        "      array_page_link.append(\"{}{}{}\".format('https://www.banker.bg',new_link,i))\n",
        "      tmm=\"{}{}{}\".format('https://www.banker.bg',new_link,i)\n",
        "      # print(tmm)\n",
        "  return array_page_link  \n",
        "\n"
      ],
      "execution_count": null,
      "outputs": []
    },
    {
      "cell_type": "code",
      "metadata": {
        "id": "5ILdgqsbDo1r"
      },
      "source": [
        "time1 = datetime(2015,1,5)\n",
        "time2 = datetime(2015,1,15)\n",
        "archive_day_link=linkcreator(time1,time2)"
      ],
      "execution_count": null,
      "outputs": []
    },
    {
      "cell_type": "code",
      "metadata": {
        "colab": {
          "base_uri": "https://localhost:8080/"
        },
        "id": "duZDRhobE67i",
        "outputId": "e3a4ffeb-64f5-4287-a430-c6698226cf87"
      },
      "source": [
        "for i in archive_day_link:\n",
        "  print(i)"
      ],
      "execution_count": null,
      "outputs": [
        {
          "output_type": "stream",
          "text": [
            "https://www.banker.bg/archive/05-01-2015/page/1\n",
            "https://www.banker.bg/archive/06-01-2015/page/1\n",
            "https://www.banker.bg/archive/06-01-2015/page/2\n",
            "https://www.banker.bg/archive/07-01-2015/page/1\n",
            "https://www.banker.bg/archive/07-01-2015/page/2\n",
            "https://www.banker.bg/archive/08-01-2015/page/1\n",
            "https://www.banker.bg/archive/08-01-2015/page/2\n",
            "https://www.banker.bg/archive/08-01-2015/page/3\n",
            "https://www.banker.bg/archive/09-01-2015/page/1\n",
            "https://www.banker.bg/archive/09-01-2015/page/2\n",
            "https://www.banker.bg/archive/09-01-2015/page/3\n",
            "https://www.banker.bg/archive/09-01-2015/page/4\n",
            "https://www.banker.bg/archive/10-01-2015/page/1\n",
            "https://www.banker.bg/archive/11-01-2015/page/1\n",
            "https://www.banker.bg/archive/12-01-2015/page/1\n",
            "https://www.banker.bg/archive/12-01-2015/page/2\n",
            "https://www.banker.bg/archive/13-01-2015/page/1\n",
            "https://www.banker.bg/archive/13-01-2015/page/2\n",
            "https://www.banker.bg/archive/14-01-2015/page/1\n",
            "https://www.banker.bg/archive/14-01-2015/page/2\n",
            "https://www.banker.bg/archive/14-01-2015/page/3\n"
          ],
          "name": "stdout"
        }
      ]
    },
    {
      "cell_type": "code",
      "metadata": {
        "id": "pKZsXIZWWtfF"
      },
      "source": [
        "for i in archive_day_link[1000:2000]:\n",
        "  print(i)"
      ],
      "execution_count": null,
      "outputs": []
    },
    {
      "cell_type": "code",
      "metadata": {
        "colab": {
          "base_uri": "https://localhost:8080/"
        },
        "id": "TESVhh9MiSON",
        "outputId": "59294acf-d397-45a3-bcff-e7a8bac57f26"
      },
      "source": [
        "urls=\"https://www.banker.bg/archive/10-01-2015/page/1\"\n",
        "sss=urls[-17:-7]\n",
        "print(sss)"
      ],
      "execution_count": null,
      "outputs": [
        {
          "output_type": "stream",
          "text": [
            "10-01-2015\n"
          ],
          "name": "stdout"
        }
      ]
    },
    {
      "cell_type": "code",
      "metadata": {
        "id": "_edJ8duIXoZc"
      },
      "source": [
        "def allpagelinkscreator(link):\n",
        "  array=[]\n",
        "  dtime=[]\n",
        "  date=\"\"\n",
        "  r = requests.get(link)   \n",
        "  soup = BeautifulSoup(r.content, 'html5lib')\n",
        "  dat=soup.findAll(\"div\",attrs={\"class\":\"col-xs-12 col-sm-6\"})\n",
        "  for i in dat:\n",
        "    # for i in j.a.get(\"href\"):\n",
        "      in_link=\"{}{}\".format(\"https://www.banker.bg\",i.a.get(\"href\"))\n",
        "      # print(i.a.get(\"href\"))\n",
        "      # print(in_link)\n",
        "      array.append(in_link)\n",
        "      date=link[-17:-7]\n",
        "      print(date)\n",
        "      dtime.append(date)#link[-17:-7]\n",
        "      ps=\"\"\n",
        "      with open(\"/content/drive/MyDrive/bg_tr/banker.bg/all_links_output.txt\", 'a') as file: \n",
        "        ps=\"{}{}{}\".format(in_link,\";\",date)\n",
        "        # ps=\"{}{}{}{}{}{}{}\".format(inner_array[0],\";\",inner_array[1],\";\",inner_array[2],\";\",inner_array[3])\n",
        "        file.write(ps+'\\n')\n",
        "    \n",
        "  return array,dtime\n"
      ],
      "execution_count": null,
      "outputs": []
    },
    {
      "cell_type": "code",
      "metadata": {
        "id": "hnzgn8ByXnvW"
      },
      "source": [
        "for i in archive_day_link[1000:2000]:\n",
        "  all_pages_links,all_pages_dates=allpagelinkscreator(i)"
      ],
      "execution_count": null,
      "outputs": []
    },
    {
      "cell_type": "code",
      "metadata": {
        "id": "FWk-QcvrZi_Y"
      },
      "source": [
        "all_pages_dates"
      ],
      "execution_count": null,
      "outputs": []
    },
    {
      "cell_type": "code",
      "metadata": {
        "id": "Ggi_uYC0kX6l"
      },
      "source": [
        "for i in archive_day_link:\n",
        "  print(i)"
      ],
      "execution_count": null,
      "outputs": []
    },
    {
      "cell_type": "code",
      "metadata": {
        "colab": {
          "base_uri": "https://localhost:8080/"
        },
        "id": "U6aP2TGagtVJ",
        "outputId": "c18ecf26-6142-49d2-b3d5-8b12576e5682"
      },
      "source": [
        "for i in archive_day_link:\n",
        "  print(i)"
      ],
      "execution_count": null,
      "outputs": [
        {
          "output_type": "stream",
          "text": [
            "https://www.banker.bg/archive/05-01-2015/page/1\n",
            "https://www.banker.bg/archive/06-01-2015/page/1\n",
            "https://www.banker.bg/archive/06-01-2015/page/2\n",
            "https://www.banker.bg/archive/07-01-2015/page/1\n",
            "https://www.banker.bg/archive/07-01-2015/page/2\n",
            "https://www.banker.bg/archive/08-01-2015/page/1\n",
            "https://www.banker.bg/archive/08-01-2015/page/2\n",
            "https://www.banker.bg/archive/08-01-2015/page/3\n",
            "https://www.banker.bg/archive/09-01-2015/page/1\n",
            "https://www.banker.bg/archive/09-01-2015/page/2\n",
            "https://www.banker.bg/archive/09-01-2015/page/3\n",
            "https://www.banker.bg/archive/09-01-2015/page/4\n",
            "https://www.banker.bg/archive/10-01-2015/page/1\n",
            "https://www.banker.bg/archive/11-01-2015/page/1\n",
            "https://www.banker.bg/archive/12-01-2015/page/1\n",
            "https://www.banker.bg/archive/12-01-2015/page/2\n",
            "https://www.banker.bg/archive/13-01-2015/page/1\n",
            "https://www.banker.bg/archive/13-01-2015/page/2\n",
            "https://www.banker.bg/archive/14-01-2015/page/1\n",
            "https://www.banker.bg/archive/14-01-2015/page/2\n",
            "https://www.banker.bg/archive/14-01-2015/page/3\n"
          ],
          "name": "stdout"
        }
      ]
    },
    {
      "cell_type": "code",
      "metadata": {
        "id": "MxuI3h14g7IA"
      },
      "source": [
        "for i in all_pages_links:\n",
        "  for j in i:\n",
        "    print(j)"
      ],
      "execution_count": null,
      "outputs": []
    },
    {
      "cell_type": "code",
      "metadata": {
        "id": "DmdofgTDY5Bs"
      },
      "source": [
        "creator(\"https://www.banker.bg/obshtestvo-i-politika/read/moskov-obeshta-poveche-lineiki-i-lekari-v-speshnite-centrove-do-meseci\")"
      ],
      "execution_count": null,
      "outputs": []
    },
    {
      "cell_type": "code",
      "metadata": {
        "id": "cYbq3NsRenCE"
      },
      "source": [
        "def creator(link,date):\n",
        "  inner_array=[]\n",
        "  atxt=\"\"  \n",
        "  inner_array.append(link)    \n",
        "  r = requests.get(link)   \n",
        "  soup = BeautifulSoup(r.content, 'html5lib')\n",
        "  # dat=soup.find(\"span\",attrs={\"class\":\"time-published\"}).time.get(\"datetime\")  \n",
        "  # print(dat)\n",
        "  dat=date\n",
        "  inner_array.append(dat)\n",
        "  title=soup.find(\"h1\",attrs={\"class\":\"blue\"}).getText()  \n",
        "  print(title)\n",
        "  inner_array.append(title)      \n",
        "  table = soup.find(\"div\", attrs = {\"class\":\"body oembed\"}).findAll('p')\n",
        "  for i in table:\n",
        "        atxt+=i.getText()\n",
        "  #print(atxt)\n",
        "  inner_array.append(atxt)  \n",
        "  ps=\"\"\n",
        "  with open(\"cput.txt\", 'a') as file: \n",
        "    #ps=\"{}{}{}{}{}{}{}\".format(pdd[0],\";\",pdd[1],\";\",pdd[2],\";\",pdd[3])\n",
        "    ps=\"{}{}{}{}{}{}{}\".format(inner_array[0],\";\",inner_array[1],\";\",inner_array[2],\";\",inner_array[3])\n",
        "    file.write(ps+'\\n')\n",
        "  return inner_array"
      ],
      "execution_count": null,
      "outputs": []
    },
    {
      "cell_type": "code",
      "metadata": {
        "colab": {
          "base_uri": "https://localhost:8080/"
        },
        "id": "QePswYImZMLX",
        "outputId": "724c9fde-befd-4db2-f739-834a4e603841"
      },
      "source": [
        "for i in all_pages_links[:]:\n",
        "  print(i[:0],i[:1])\n",
        "  # creator(i[:0],i[:1])"
      ],
      "execution_count": null,
      "outputs": [
        {
          "output_type": "stream",
          "text": [
            "[] ['https://www.banker.bg/pari-i-pazari/read/455750-hora-putishta-i-dupki']\n",
            "[] ['14-01-2015']\n"
          ],
          "name": "stdout"
        }
      ]
    },
    {
      "cell_type": "code",
      "metadata": {
        "colab": {
          "base_uri": "https://localhost:8080/"
        },
        "id": "kCnjNjATa4G1",
        "outputId": "e4931316-f3b8-417a-a104-09001ac2463f"
      },
      "source": [
        "for i in range(len(all_pages_links)):\n",
        "  print(all_pages_dates[i],all_pages_links[i])\n",
        "  #results=creator(all_pages_links[i],all_pages_dates[i])\n",
        "    \n",
        "  "
      ],
      "execution_count": null,
      "outputs": [
        {
          "output_type": "stream",
          "text": [
            "14-01-2015 https://www.banker.bg/pari-i-pazari/read/455750-hora-putishta-i-dupki\n",
            "14-01-2015 https://www.banker.bg/finansov-dnevnik/read/karina-karaivanova-e-noviiat-upravitel-za-bulgariia-v-chernomorskata-banka\n",
            "14-01-2015 https://www.banker.bg/finansov-dnevnik/read/promeniha-trigodishnata-srednosrochna-biudjetna-prognoza\n",
            "14-01-2015 https://www.banker.bg/finansov-dnevnik/read/premierut-se-nadiava-durjavata-da-si-vurne-pone-1-mlrd-leva-ot-ktb\n",
            "14-01-2015 https://www.banker.bg/upravlenie-i-biznes/read/vik-za-pomosht\n",
            "14-01-2015 https://www.banker.bg/obshtestvo-i-politika/read/borisov-bez-nachalnika-nishto-ne-mojem-da-napravim\n",
            "14-01-2015 https://www.banker.bg/finansov-dnevnik/read/nuleva-inflaciia-e-otchetena-prez-dekemvri\n",
            "14-01-2015 https://www.banker.bg/obshtestvo-i-politika/read/maia-manolova-iska-v-biuletinata-vot-protiv-vsichki\n",
            "14-01-2015 https://www.banker.bg/sviat/read/ek-predstavi-zakon-za-evropeiskiia-fond-za-strategicheski-investicii\n",
            "14-01-2015 https://www.banker.bg/finansov-dnevnik/read/ot-nap-otrekoha-da-sa-davali-ukazaniia-za-pensionnite-vnoski\n",
            "14-01-2015 https://www.banker.bg/obshtestvo-i-politika/read/siderov-az-sum-anti-sharli\n",
            "14-01-2015 https://www.banker.bg/finansov-dnevnik/read/gurcite-moje-da-prenasochat-spestiavaniiata-si-v-bulgarski-banki\n",
            "14-01-2015 https://www.banker.bg/upravlenie-i-biznes/read/falirat-gaztreid\n",
            "14-01-2015 https://www.banker.bg/obshtestvo-i-politika/read/karakachanov-dps-zaigrava-opasno-s-isliama\n",
            "14-01-2015 https://www.banker.bg/sport/read/pironkova-na-polufinal-v-sidni\n",
            "14-01-2015 https://www.banker.bg/obshtestvo-i-politika/read/onkologiiata-skupi-lekarstva-i-moderni-kliniki\n"
          ],
          "name": "stdout"
        }
      ]
    },
    {
      "cell_type": "code",
      "metadata": {
        "colab": {
          "base_uri": "https://localhost:8080/"
        },
        "id": "uz8WtTV6fBOC",
        "outputId": "dcda9421-616f-48ac-ad4e-eff6eb5bf602"
      },
      "source": [
        "for i in results:\n",
        "  print(i)"
      ],
      "execution_count": null,
      "outputs": [
        {
          "output_type": "stream",
          "text": [
            "https://www.banker.bg/obshtestvo-i-politika/read/onkologiiata-skupi-lekarstva-i-moderni-kliniki\n",
            "14-01-2015\n",
            "Онкологията - скъпи лекарства и модерни клиники\n",
            "Устойчиво и предвидимо контролиране на разходите за лекарства е фиксидеята, около която обединиха позициите си здравният министър д-р Петър Москов и ръководството на Националната здравноосигурителна каса. Както отбеляза министърът, никак не е нормално в рамките на година касата да плаща с 40% повече за медикаменти, при положение че в богатите държави увеличението е средно с 5 процентни пункта. Обичайният довод, че България е малък пазар и големите фармацевтични компании не искат да правят отстъпки за продуктите си, за да не подбиват цените си в световен мащаб, очевидно е приказка за наивници. И зад нея се крие лобизмът, пуснал за съжаление дълбоки корени в лекарствения сектор. Затова идеята на здравното ведомство да започне преговори с двете големи фармацевтични асоциации - на генериците и оригиналите, заслужава адмирации. От ведомството направиха заявка, че ще търсят въвеждане на големи пакетни споразумения, а не единични отстъпки от цената на определени лекарства. Това е един вид прелюдия към предложените от екипа на министерството промени в Закона за здравето. Текстовете гласят, че още през 2015-а ще бъде въведено задължително договаряне на намаления в цените на лекарствата за домашно лечение и за лечение на злокачествени заболявания между производители, дистрибутори и здравната каса. Предвижда се препаратите, за които не е заложена отстъпка, да отпаднат от Позитивния лекарствен списък, а това би било тежък удар за всяка една компания, колкото и оборотна да е тя.В огромна степенновият курс в лекарствената политика за контролирани държавни разходи се дължи на свидните финансови жертви, дадени от онкологията. Ръководството на здравната каса неслучайно отправи покана първо към притежателите на лицензите за употреба на онкомедикаменти, които се плащат извън клиничните пътеки, да се явят на преговори и да предложат дискаунт. Отстъпките за скъпоструващи лекарства бяха въведени от касата през 2011-а, след като анализ на разходите доказа, че тя заплаща твърде солено за тях, покривайки ги напълно. Методиката обаче досега предлагаше доста вратички на фирмите: или да не предоставят занижени оферти, или да предлагат символични отстъпки. В резултат публичният фонд икономисва по около 4 млн. лв. годишно, което е капка в морето на половин милиард лева разходи за хапчета. Далеч по-голям ефект имаше от работата на Националния съвет по цените и реимбурсирането на лекарствата. Контролният орган спести 8 млн. лв. от намалението в стойността на десет лекарства, предназначени за лечение на онкологични заболявания само за 2014-а.Плащанията за препарати против рак в най-голяма степен олицетворяват неспособността на здравните власти да контролират лекарствения пазар. През 2012-а касата задели за онкологични медикаменти 57 млн. лв., през 2013-а сумата стана 90 млн. лв., а за миналата година се стигна до 145 млн. лева. Тоест имаме трикратно завишение за три години, но дори при тези параметри парите постоянно не стигат. Бюджетът за онколекарства през 2014-а например светна на червено с 48 млн. лева, които бяха компенсирани с две актуализации. Сега здравната каса е предвидила по това перо 175 млн. лв., но най-вероятно и те ще се окажат малко. Управителят йд-р Румяна Тодорова прогнозира нов дефицит тъй като от януари в Позитивния списък са влезли още няколко скъпи медикамента. Според нейните калкулации всяка година броят на онкоболните нараства с около 9000 души, а диагностиката, лечението и лекарствата за един раков пациент струват около 8000 лв. за 12 месеца. Това означава недостиг от 72 млн. лв. в този сектор. Така от преговорите между касата и 77-те компании с разрешение за употреба на общо 460 онколекарства (или техни разновидности) до голяма степен ще зависи дали бюджетът на институцията ще издържи.В същото време онкологията е животоспасяваща и там драстични икономии не могат да се правят. Неслучайно държавата инвестира огромната част от средствата, заделени за здравеопазване по оперативната програма \"Регионално развитие\", в изграждането на модерни онкоцентрове и в закупуването на скъпа апаратура за тях. Само за последните две седмици здравното министерство отвори две големи обществени поръчки. Столичната онкология ще получи модерен уред за хеликална терапия за 6.5 млн. лв., колегите им от \"Царица Йоанна - ИСУЛ\"  чакат прословутия втори линеен ускорител за 4.96 млн. лв., а пловдивската университетска болница \"Св. Георги\" ще се сдобие с гама нож от последно поколение, за който са приготвени над 10 милиона. Със сигурност сред най-доволните са специалистите в ИСУЛ, където работи един нов линеен ускорител, но той е системно претоварен и листата на чакащите за лъчетерапия е запълнена за месец напред. Трети такъв уред чакат в университетската болница \"Света Марина\" във Варна, където миналото лято бе открит онкологичният и лъчетерапевтичен център на обща стойност над 18 млн. лева. Скъпа апаратура е предвидена и за Специализираната болница за активно лечение на онкологични заболявания \"Д-р Марко А. Марков\" във Варна, а в Бургас, Велико Търново и Стара Загора работят комплекси с техника за над 13 млн. лева. Специалистите са изчислили, че за да отговаря на европейските стандарти в онкологията, страната трябва да има 47 линейни ускорителя. За всеки апарат се залага график за натовареност от 450 пациенти годишно, но през \"българските\" минават между два и три пъти повече.Бясната надпревара между специализираните и държавните (в различна степен) болници за надмощие в онкологията лесно може да се обясни с  най-скъпите клинични пътеки и с едно от най-продължителните лечения на пациент. Частният сектор също се намеси подобаващо, като\"Сити Клиник\" инвестира 70 млн. лв. за изграждането на онкологичен център, който трябва да приеме първите си пациенти до края на годината. Той ще разполага с три линейни ускорителя от най-високия клас, с над 100 легла, и ще предлага широк спектър от услуги, включително и медицинска онкология, лъчетерапия и радиохирургия, нуклеарна медицина, трансплантация на костен мозък и терапия със стволови клетки, генетични консултации и онкохематология. \"Целта на новата онкологична болница е за първи път в България да предостави мултидисциплинарно лечение на пациентите с онкологични заболявания\", каза съоснователят и изпълнителен директор на \"Сити Клиник\" Илиан Григоров. Амбицията е да се привличат пациенти с ракови заболявания дори от съседните държави.\n"
          ],
          "name": "stdout"
        }
      ]
    },
    {
      "cell_type": "markdown",
      "metadata": {
        "id": "QQTGIW10u3Oq"
      },
      "source": [
        "bgnes.bg\n"
      ]
    },
    {
      "cell_type": "code",
      "metadata": {
        "id": "fjHHMLKOu2aJ"
      },
      "source": [
        ""
      ],
      "execution_count": null,
      "outputs": []
    },
    {
      "cell_type": "code",
      "metadata": {
        "id": "CcC_01C8u2BB"
      },
      "source": [
        "import bs4\n",
        "import requests\n",
        "from bs4 import BeautifulSoup\n",
        "import pandas as pd\n",
        "import numpy as np\n",
        "import os\n",
        "import urllib.request\n",
        "import re\n",
        "from pandas import DataFrame\n",
        "import csv"
      ],
      "execution_count": null,
      "outputs": []
    },
    {
      "cell_type": "code",
      "metadata": {
        "id": "uUNB6EcBu19r"
      },
      "source": [
        "def headermenuitemfinder(link):\n",
        "  category_array=[]\n",
        "  req = requests.get(link)\n",
        "  soup = BeautifulSoup(req.content, \"lxml\")\n",
        "  title=soup.findAll(\"a\",attrs={\"class\":\"main_nav__link\"})\n",
        "  title2=soup.findAll(\"a\",attrs={\"class\":\"main_nav__dropdown_link\"})\n",
        "  for i in title:\n",
        "    b=i.get(\"href\")\n",
        "    category_array.append(\"{}{}\".format(\"https://bgnes.bg\",b)) \n",
        "  for i in title2:\n",
        "    c=i.get(\"href\")\n",
        "    category_array.append(\"{}{}\".format(\"https://bgnes.bg\",c))  \n",
        "  return category_array"
      ],
      "execution_count": 3,
      "outputs": []
    },
    {
      "cell_type": "code",
      "metadata": {
        "id": "D2NjULF56zG7"
      },
      "source": [
        "url=\"https://bgnes.bg/\"\n",
        "cat_array=headermenuitemfinder(url)"
      ],
      "execution_count": 4,
      "outputs": []
    },
    {
      "cell_type": "code",
      "metadata": {
        "id": "KwEyyh9w-hB9"
      },
      "source": [
        "def pagecountfinder(link):\n",
        "  p_c_array=[]\n",
        "  req = requests.get(link)\n",
        "  soup = BeautifulSoup(req.content, \"lxml\")\n",
        "  title=soup.find(\"li\",attrs={\"class\":\"MarkupPagerNavLastNum\"})\n",
        "  p_c_array.append(title.a.getText())  \n",
        "  return p_c_array"
      ],
      "execution_count": 5,
      "outputs": []
    },
    {
      "cell_type": "code",
      "metadata": {
        "id": "HsCo2U0_E6mz"
      },
      "source": [
        "categories_array=[]\n",
        "for i in cat_array[1:]:\n",
        "  categories_array.append(i)"
      ],
      "execution_count": 6,
      "outputs": []
    },
    {
      "cell_type": "code",
      "metadata": {
        "id": "etJRagmRbNIU"
      },
      "source": [
        "for i in categories_array:\n",
        "  print(i)"
      ],
      "execution_count": null,
      "outputs": []
    },
    {
      "cell_type": "code",
      "metadata": {
        "id": "e1B2w7Cb963p"
      },
      "source": [
        "page_counts=[]\n",
        "for i in categories_array:\n",
        "  page_counts.append(pagecountfinder(i))"
      ],
      "execution_count": 8,
      "outputs": []
    },
    {
      "cell_type": "code",
      "metadata": {
        "id": "Pp7h0ttsKHzF"
      },
      "source": [
        "def link_creator(c_array):\n",
        "  all_link=[]\n",
        "  for i in range(len(c_array)):\n",
        "  \n",
        "    c=page_counts[i]\n",
        "    h=int(c[0])\n",
        "    # print(h)\n",
        "    # print(type(h))\n",
        "    for j in range(h):\n",
        "      ll=\"{}{}{}\".format(categories_array[i],\"page\",j+1)\n",
        "      all_link.append(ll)\n",
        "  return all_link\n",
        "\n",
        "  \n",
        "    # n=int(j)\n",
        "    # print(n)\n",
        "    # s=1    \n",
        "    # for k in range(n):\n",
        "    #   print(\"----\",h)\n",
        "    #   ll=\"{}{}{}\".format(categories_array[1:],\"page\",k)\n",
        "    #   s+=1\n",
        "    #   print(ll)\n",
        "    # h+=1\n",
        "      "
      ],
      "execution_count": 9,
      "outputs": []
    },
    {
      "cell_type": "code",
      "metadata": {
        "id": "Yif91NzkgXAC"
      },
      "source": [
        "all_links=link_creator(page_counts)"
      ],
      "execution_count": 10,
      "outputs": []
    },
    {
      "cell_type": "code",
      "metadata": {
        "id": "gmPW0vjagtKJ"
      },
      "source": [
        "for i in all_links:\n",
        "  print(i)"
      ],
      "execution_count": null,
      "outputs": []
    },
    {
      "cell_type": "code",
      "metadata": {
        "id": "TkpclWexQR2P"
      },
      "source": [
        "\n",
        "def pageslinkcreator(link):\n",
        "  plink_array=[]\n",
        "  req = requests.get(link)\n",
        "  soup = BeautifulSoup(req.content, \"lxml\")\n",
        "  title=soup.findAll(\"h3\",attrs={\"class\":\"mb-3 posts__item_head\"})\n",
        "  # title2=soup.findAll(\"a\",attrs={\"class\":\"main_nav__dropdown_link\"})\n",
        "  for i in title:\n",
        "    b=i.a.get(\"href\")\n",
        "    new_link=\"{}{}\".format(\"https://bgnes.bg\",b)\n",
        "    plink_array.append(new_link)   \n",
        "    ps=new_link\n",
        "    with open(\"cput.txt\", 'a') as file:      \n",
        "      file.write(ps+'\\n')\n",
        "  return plink_array"
      ],
      "execution_count": 17,
      "outputs": []
    },
    {
      "cell_type": "code",
      "metadata": {
        "id": "cBJfWzu5QvSS"
      },
      "source": [
        "for i in all_links[:1]:\n",
        "  all_page_links=pageslinkcreator(i)"
      ],
      "execution_count": 18,
      "outputs": []
    },
    {
      "cell_type": "code",
      "metadata": {
        "id": "lNftK-q4YVKg"
      },
      "source": [
        "def creator(link):\n",
        "  inner_array=[]\n",
        "  atxt=\"\"  \n",
        "  inner_array.append(link) \n",
        "  print(link)   \n",
        "  r = requests.get(link)   \n",
        "  soup = BeautifulSoup(r.content, 'html5lib')\n",
        "  dat=soup.find(\"div\",attrs={\"class\":\"news_metadata mb-4\"})  \n",
        "  datem=(dat.span.getText(\"span\"))\n",
        "  print(datem[-19:-9])\n",
        "  \n",
        "  inner_array.append(datem[-19:-9])\n",
        "  title=soup.find(\"h1\",attrs={\"class\":\"headline\"}).getText()  \n",
        "  print(title)\n",
        "  inner_array.append(title)      \n",
        "  table = soup.findAll(\"div\", attrs = {\"class\":\"body_matrix__body__inner\"})\n",
        "  for i in table:\n",
        "        atxt+=i.p.getText()\n",
        "  print(atxt)\n",
        "  inner_array.append(atxt)  \n",
        "  ps=\"\"\n",
        "  with open(\"container_output.txt\", 'a') as file: \n",
        "    #ps=\"{}{}{}{}{}{}{}\".format(pdd[0],\";\",pdd[1],\";\",pdd[2],\";\",pdd[3])\n",
        "    ps=\"{}{}{}{}{}{}{}\".format(inner_array[0],\";\",inner_array[1],\";\",inner_array[2],\";\",inner_array[3])\n",
        "    file.write(ps+'\\n')\n",
        "  return inner_array"
      ],
      "execution_count": 121,
      "outputs": []
    },
    {
      "cell_type": "code",
      "metadata": {
        "id": "ar3cfocsX6Nr"
      },
      "source": [
        "for i in all_page_links:\n",
        "  creator(i)"
      ],
      "execution_count": null,
      "outputs": []
    },
    {
      "cell_type": "code",
      "metadata": {
        "id": "erg0PyjNiSX7"
      },
      "source": [
        ""
      ],
      "execution_count": null,
      "outputs": []
    },
    {
      "cell_type": "code",
      "metadata": {
        "id": "EuSo8zAiEMLm"
      },
      "source": [
        ""
      ],
      "execution_count": null,
      "outputs": []
    }
  ]
}